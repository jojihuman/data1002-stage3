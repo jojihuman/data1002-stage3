{
 "cells": [
  {
   "cell_type": "code",
   "execution_count": 1,
   "id": "2134029e",
   "metadata": {},
   "outputs": [],
   "source": [
    "import pandas as pd\n",
    "from math import sqrt\n",
    "from sklearn import metrics\n",
    "from sklearn import neighbors\n",
    "from sklearn.model_selection import train_test_split"
   ]
  },
  {
   "cell_type": "code",
   "execution_count": 2,
   "id": "b209b1bb",
   "metadata": {},
   "outputs": [],
   "source": [
    "df = pd.read_csv('SDG_goal3_clean.csv')\n",
    "#Slice dataframe for predictive model\n",
    "x = df[['Universal health coverage (UHC) service coverage index']]\n",
    "y = df['Mortality rate attributed to cardiovascular disease, cancer, diabetes or chronic respiratory disease (probability):::BOTHSEX']\n",
    "x_train, x_test, y_train, y_test = train_test_split(x, y, test_size = 0.1, random_state = 42)\n",
    "neighbour_for_test = neighbors.KNeighborsRegressor(n_neighbors = 4).fit(x_train, y_train)"
   ]
  },
  {
   "cell_type": "code",
   "execution_count": 3,
   "id": "ee02db53",
   "metadata": {},
   "outputs": [
    {
     "name": "stdout",
     "output_type": "stream",
     "text": [
      "-----Sample test case-----\n",
      "Universal health coverage:  86\n",
      "Predicted mortality rate:  9\n",
      "--------------------------\n"
     ]
    }
   ],
   "source": [
    "#Create sample data for sample prediction\n",
    "sample = [92]\n",
    "sample_prediction = neighbour_for_test.predict([sample])\n",
    "print('-----Sample test case-----')\n",
    "print('Universal health coverage: ', sample[0])\n",
    "print('Predicted mortality rate: ', int(sample_prediction))\n",
    "print('--------------------------')"
   ]
  },
  {
   "cell_type": "code",
   "execution_count": 4,
   "id": "d5028bf8",
   "metadata": {},
   "outputs": [
    {
     "name": "stdout",
     "output_type": "stream",
     "text": [
      "RMSE:  5.688274834098233\n",
      "R-squared score:  0.4573254809835092\n"
     ]
    }
   ],
   "source": [
    "#Actual predictions\n",
    "y_prediction = neighbour_for_test.predict(x_test)\n",
    "mean_square_error = metrics.mean_squared_error(y_test, y_prediction)\n",
    "print(\"RMSE: \", sqrt(mean_square_error))\n",
    "#An r-squared score of 1 means it's perfect\n",
    "print(\"R-squared score: \", metrics.r2_score(y_test, y_prediction))"
   ]
  }
 ],
 "metadata": {
  "kernelspec": {
   "display_name": "Python 3",
   "language": "python",
   "name": "python3"
  },
  "language_info": {
   "codemirror_mode": {
    "name": "ipython",
    "version": 3
   },
   "file_extension": ".py",
   "mimetype": "text/x-python",
   "name": "python",
   "nbconvert_exporter": "python",
   "pygments_lexer": "ipython3",
   "version": "3.8.8"
  }
 },
 "nbformat": 4,
 "nbformat_minor": 5
}
