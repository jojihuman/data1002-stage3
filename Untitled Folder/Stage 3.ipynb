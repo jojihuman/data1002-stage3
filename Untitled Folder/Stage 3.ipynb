{
 "cells": [
  {
   "cell_type": "markdown",
   "id": "54f1b010",
   "metadata": {},
   "source": [
    "# Stage 3: Machine Learning\n",
    "SID: 500497375"
   ]
  },
  {
   "cell_type": "code",
   "execution_count": 1,
   "id": "b29bcf11",
   "metadata": {},
   "outputs": [],
   "source": [
    "#Import libraries to undertake machine learning task. \n",
    "import pandas as pd\n",
    "import matplotlib.pyplot as plt\n",
    "import seaborn as sns\n",
    "import numpy as np\n",
    "from math import sqrt\n",
    "from sklearn import metrics, neighbors\n",
    "from sklearn.model_selection import train_test_split"
   ]
  },
  {
   "cell_type": "markdown",
   "id": "d5e48b35",
   "metadata": {},
   "source": [
    "Using a k-nearest neighbors regression machine learning model and the dataset used in stage 2, we aim to use Universal health coverage (UHC) service coverage index and physician density metrics to predict the mortality rate attributed to cardiovascular disease, cancer, diabetes or chronic respiratory disease."
   ]
  },
  {
   "cell_type": "code",
   "execution_count": 2,
   "id": "e1d61f49",
   "metadata": {},
   "outputs": [
    {
     "data": {
      "text/html": [
       "<div>\n",
       "<style scoped>\n",
       "    .dataframe tbody tr th:only-of-type {\n",
       "        vertical-align: middle;\n",
       "    }\n",
       "\n",
       "    .dataframe tbody tr th {\n",
       "        vertical-align: top;\n",
       "    }\n",
       "\n",
       "    .dataframe thead th {\n",
       "        text-align: right;\n",
       "    }\n",
       "</style>\n",
       "<table border=\"1\" class=\"dataframe\">\n",
       "  <thead>\n",
       "    <tr style=\"text-align: right;\">\n",
       "      <th></th>\n",
       "      <th>Universal health coverage (UHC) service coverage index</th>\n",
       "      <th>Health worker density, by type of occupation (per 10,000 population)::PHYSICIAN</th>\n",
       "      <th>Mortality rate attributed to cardiovascular disease, cancer, diabetes or chronic respiratory disease (probability):::BOTHSEX</th>\n",
       "    </tr>\n",
       "  </thead>\n",
       "  <tbody>\n",
       "    <tr>\n",
       "      <th>0</th>\n",
       "      <td>44</td>\n",
       "      <td>13.821</td>\n",
       "      <td>18.7</td>\n",
       "    </tr>\n",
       "    <tr>\n",
       "      <th>1</th>\n",
       "      <td>44</td>\n",
       "      <td>27.007</td>\n",
       "      <td>26.7</td>\n",
       "    </tr>\n",
       "    <tr>\n",
       "      <th>2</th>\n",
       "      <td>45</td>\n",
       "      <td>25.643</td>\n",
       "      <td>25.7</td>\n",
       "    </tr>\n",
       "    <tr>\n",
       "      <th>3</th>\n",
       "      <td>57</td>\n",
       "      <td>28.419</td>\n",
       "      <td>25.0</td>\n",
       "    </tr>\n",
       "    <tr>\n",
       "      <th>4</th>\n",
       "      <td>79</td>\n",
       "      <td>24.944</td>\n",
       "      <td>12.9</td>\n",
       "    </tr>\n",
       "    <tr>\n",
       "      <th>...</th>\n",
       "      <td>...</td>\n",
       "      <td>...</td>\n",
       "      <td>...</td>\n",
       "    </tr>\n",
       "    <tr>\n",
       "      <th>158</th>\n",
       "      <td>51</td>\n",
       "      <td>30.181</td>\n",
       "      <td>35.3</td>\n",
       "    </tr>\n",
       "    <tr>\n",
       "      <th>159</th>\n",
       "      <td>60</td>\n",
       "      <td>34.830</td>\n",
       "      <td>29.7</td>\n",
       "    </tr>\n",
       "    <tr>\n",
       "      <th>160</th>\n",
       "      <td>56</td>\n",
       "      <td>29.628</td>\n",
       "      <td>34.2</td>\n",
       "    </tr>\n",
       "    <tr>\n",
       "      <th>161</th>\n",
       "      <td>56</td>\n",
       "      <td>26.701</td>\n",
       "      <td>34.9</td>\n",
       "    </tr>\n",
       "    <tr>\n",
       "      <th>162</th>\n",
       "      <td>65</td>\n",
       "      <td>25.432</td>\n",
       "      <td>28.9</td>\n",
       "    </tr>\n",
       "  </tbody>\n",
       "</table>\n",
       "<p>163 rows × 3 columns</p>\n",
       "</div>"
      ],
      "text/plain": [
       "     Universal health coverage (UHC) service coverage index  \\\n",
       "0                                                   44        \n",
       "1                                                   44        \n",
       "2                                                   45        \n",
       "3                                                   57        \n",
       "4                                                   79        \n",
       "..                                                 ...        \n",
       "158                                                 51        \n",
       "159                                                 60        \n",
       "160                                                 56        \n",
       "161                                                 56        \n",
       "162                                                 65        \n",
       "\n",
       "     Health worker density, by type of occupation (per 10,000 population)::PHYSICIAN  \\\n",
       "0                                               13.821                                 \n",
       "1                                               27.007                                 \n",
       "2                                               25.643                                 \n",
       "3                                               28.419                                 \n",
       "4                                               24.944                                 \n",
       "..                                                 ...                                 \n",
       "158                                             30.181                                 \n",
       "159                                             34.830                                 \n",
       "160                                             29.628                                 \n",
       "161                                             26.701                                 \n",
       "162                                             25.432                                 \n",
       "\n",
       "     Mortality rate attributed to cardiovascular disease, cancer, diabetes or chronic respiratory disease (probability):::BOTHSEX  \n",
       "0                                                 18.7                                                                             \n",
       "1                                                 26.7                                                                             \n",
       "2                                                 25.7                                                                             \n",
       "3                                                 25.0                                                                             \n",
       "4                                                 12.9                                                                             \n",
       "..                                                 ...                                                                             \n",
       "158                                               35.3                                                                             \n",
       "159                                               29.7                                                                             \n",
       "160                                               34.2                                                                             \n",
       "161                                               34.9                                                                             \n",
       "162                                               28.9                                                                             \n",
       "\n",
       "[163 rows x 3 columns]"
      ]
     },
     "execution_count": 2,
     "metadata": {},
     "output_type": "execute_result"
    }
   ],
   "source": [
    "df = pd.read_csv('S3DS.csv')\n",
    "universal_health_coverage = \"Universal health coverage (UHC) service coverage index\"\n",
    "physician_density = \"Health worker density, by type of occupation (per 10,000 population)::PHYSICIAN\"\n",
    "mortality = 'Mortality rate attributed to cardiovascular disease, cancer, diabetes or chronic respiratory disease (probability):::BOTHSEX'\n",
    "\n",
    "subset = df[[universal_health_coverage, physician_density, mortality]]\n",
    "subset"
   ]
  },
  {
   "cell_type": "code",
   "execution_count": 3,
   "id": "d66f4480",
   "metadata": {},
   "outputs": [],
   "source": [
    "#Slice dataframe for predictive model\n",
    "X = df[['Universal health coverage (UHC) service coverage index', 'Health worker density, by type of occupation (per 10,000 population)::PHYSICIAN']].values\n",
    "y = df['Mortality rate attributed to cardiovascular disease, cancer, diabetes or chronic respiratory disease (probability):::BOTHSEX'].values\n",
    "X_train, X_test, y_train, y_test = train_test_split(X, y, test_size = 0.2, random_state = 42)\n",
    "neighbour_for_test = neighbors.KNeighborsRegressor(n_neighbors = 4).fit(X_train, y_train)"
   ]
  },
  {
   "cell_type": "markdown",
   "id": "7fd64687",
   "metadata": {},
   "source": [
    "## Predictions and Results"
   ]
  },
  {
   "cell_type": "code",
   "execution_count": 4,
   "id": "7a740b5f",
   "metadata": {},
   "outputs": [
    {
     "name": "stdout",
     "output_type": "stream",
     "text": [
      "-----Sample test case-----\n",
      "Universal health coverage:  92\n",
      "Physician density:  34.295\n",
      "Predicted mortality rate:  9\n",
      "--------------------------\n"
     ]
    }
   ],
   "source": [
    "#Create sample data for sample prediction\n",
    "sample = [92, 34.295]\n",
    "sample_prediction = neighbour_for_test.predict([sample])\n",
    "print('-----Sample test case-----')\n",
    "print('Universal health coverage: ', sample[0])\n",
    "print('Physician density: ', sample[1])\n",
    "print('Predicted mortality rate: ', int(sample_prediction))\n",
    "print('--------------------------')"
   ]
  },
  {
   "cell_type": "code",
   "execution_count": 5,
   "id": "dcd0cb73",
   "metadata": {},
   "outputs": [
    {
     "name": "stdout",
     "output_type": "stream",
     "text": [
      "RMSE:  5.371290122098933\n",
      "R-squared score:  0.5264804759418702\n"
     ]
    }
   ],
   "source": [
    "#Actual predictions\n",
    "y_prediction = neighbour_for_test.predict(X_test)\n",
    "mean_square_error = metrics.mean_squared_error(y_test, y_prediction)\n",
    "print(\"RMSE: \", sqrt(mean_square_error))\n",
    "#An r-squared score of 1/near one means that the variables are closely correlated\n",
    "print(\"R-squared score: \", metrics.r2_score(y_test, y_prediction))"
   ]
  },
  {
   "cell_type": "markdown",
   "id": "0639c4f8",
   "metadata": {},
   "source": [
    "The RMSE value being 5.37 indicates to us that a lot of the data is relatively spreadout, indicating to us that a kNN regression machine learning model is not the best model to be used for predicting the mortality rate. The R-squared score explains the proportion of variance in the dependent variable that is able to be explained by the independent variable. As the R-squared value is 0.53 (rounded up to 2 decimal points), we can determine that there is a moderate relationship between the two variables to predict the mortality rate. The scatterplot below is included with a regression line to help us see the relationship between the two variables we used for our predictive model. This gives us a graphical interpretation and helps provide context of the results of our predictive model."
   ]
  },
  {
   "cell_type": "code",
   "execution_count": 6,
   "id": "9076ae8e",
   "metadata": {},
   "outputs": [
    {
     "data": {
      "image/png": "[encoded data removed]",
      "text/plain": [
       "<Figure size 360x360 with 1 Axes>"
      ]
     },
     "metadata": {
      "needs_background": "light"
     },
     "output_type": "display_data"
    }
   ],
   "source": [
    "#Investigate correlation between UHC and physician density\n",
    "universal_health_coverage = \"Universal health coverage (UHC) service coverage index\"\n",
    "physician_density = \"Health worker density, by type of occupation (per 10,000 population)::PHYSICIAN\"\n",
    "\n",
    "ax = sns.lmplot(x = universal_health_coverage, y = physician_density, data = df)\n",
    "ax.set(xlabel = \"Universal health coverage (UHC) service coverage index\", ylabel = \"Physician Density (per 10,000 population)\")\n",
    "plt.show()"
   ]
  },
  {
   "cell_type": "markdown",
   "id": "95ab8d10",
   "metadata": {},
   "source": [
    "Given the intense scattering of the points in the scatterplot, it is safe to assume that the r-squared score of around 0.53 (rounded up to 2 decimal points)makes sense, as there are some points close to the regression line, but not that many. An r-squared score of one/near one indicates a more compact scatterplot where all the points are near the regression line."
   ]
  },
  {
   "cell_type": "markdown",
   "id": "cf50617b",
   "metadata": {},
   "source": [
    "## Model Evaluation"
   ]
  },
  {
   "cell_type": "code",
   "execution_count": 7,
   "id": "f4ba44b8",
   "metadata": {},
   "outputs": [
    {
     "data": {
      "image/png": "[encoded data removed]",
      "text/plain": [
       "<Figure size 432x288 with 1 Axes>"
      ]
     },
     "metadata": {
      "needs_background": "light"
     },
     "output_type": "display_data"
    }
   ],
   "source": [
    "#Learning curve\n",
    "mse_training_values = []\n",
    "mse_test_values = []\n",
    "neighbour_count = [1, 2, 3, 4, 5, 6, 7, 8, 9 ,10, 11, 12, 13, 14, 15, 16 ,17, 18, 19, 20]\n",
    "\n",
    "#find error rates in a range of 20 neighbours \n",
    "for k in range(20):\n",
    "    k += 1\n",
    "    #run the kNN regression model\n",
    "    model_evaluator = neighbors.KNeighborsRegressor(n_neighbors = k)\n",
    "    #fit in training data\n",
    "    model_evaluator.fit(X_train, y_train)\n",
    "    \n",
    "    #make the predictions\n",
    "    training_prediction = model_evaluator.predict(X_train)\n",
    "    test_prediction = model_evaluator.predict(X_test)\n",
    "    \n",
    "    #check MSE values for both test and training values\n",
    "    training_error_values = metrics.mean_squared_error(y_train, training_prediction)\n",
    "    test_error_values = metrics.mean_squared_error(y_test, test_prediction)\n",
    "    \n",
    "    #append everything to the appropriate lists\n",
    "    mse_training_values.append(training_error_values)\n",
    "    mse_test_values.append(test_error_values)\n",
    "\n",
    "#create the graph\n",
    "plt.title(\"Learning Curve using Training and Test MSE Values in a\\n kNN (k-nearest neighbors) regression Machine Learning Model\")\n",
    "plt.plot(neighbour_count, mse_training_values, label = \"Training error\")\n",
    "plt.plot(neighbour_count, mse_test_values, label = \"Test error\")\n",
    "plt.xlabel(\"Number of Neighbours\")\n",
    "plt.xticks(neighbour_count)\n",
    "plt.ylabel(\"MSE (Mean Square Error) value\")\n",
    "plt.legend()\n",
    "plt.show()"
   ]
  },
  {
   "cell_type": "markdown",
   "id": "c1fb12e2",
   "metadata": {},
   "source": [
    "Looking at the learning curve and the comparisons between the MSE scores of the training and test data, we can see that because of the low training error and astoundingly high testing error when the neighbour count is low, by definition the model is overfitting for low neighbour counts. However around k = 8, both the training and test error values converge when y is between 20 and 30, which tells us that beyond this point, there is zero benefit in increasing the training data sample size.  "
   ]
  }
 ],
 "metadata": {
  "interpreter": {
   "hash": "2651b17ee66748d8abec7114b4dbe0755e58368a933aa5bcd7b61eef5eebd9bc"
  },
  "kernelspec": {
   "display_name": "Python 3",
   "language": "python",
   "name": "python3"
  },
  "language_info": {
   "codemirror_mode": {
    "name": "ipython",
    "version": 3
   },
   "file_extension": ".py",
   "mimetype": "text/x-python",
   "name": "python",
   "nbconvert_exporter": "python",
   "pygments_lexer": "ipython3",
   "version": "3.8.8"
  }
 },
 "nbformat": 4,
 "nbformat_minor": 5
}
